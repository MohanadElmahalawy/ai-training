{
 "cells": [
  {
   "cell_type": "code",
   "execution_count": 6,
   "id": "163a1a35",
   "metadata": {},
   "outputs": [
    {
     "name": "stdout",
     "output_type": "stream",
     "text": [
      "enter a number153\n",
      "351"
     ]
    }
   ],
   "source": [
    "i=10\n",
    "a=int(input('enter a number: '))\n",
    "while a>0:\n",
    "    n=a%i\n",
    "    a=(a-n)/10\n",
    "    n=int(n)\n",
    "    print(n, end='')"
   ]
  },
  {
   "cell_type": "code",
   "execution_count": 8,
   "id": "aae4eb58",
   "metadata": {},
   "outputs": [
    {
     "name": "stdout",
     "output_type": "stream",
     "text": [
      "enter a number: 222\n",
      "6\n"
     ]
    }
   ],
   "source": [
    "s=0\n",
    "a=int(input('enter a number: '))\n",
    "while a>0:\n",
    "    n=a%i\n",
    "    a=(a-n)//10\n",
    "    s=n+s\n",
    "print(s)"
   ]
  },
  {
   "cell_type": "code",
   "execution_count": 22,
   "id": "1faeb013",
   "metadata": {},
   "outputs": [
    {
     "name": "stdout",
     "output_type": "stream",
     "text": [
      "enter a number: 371\n",
      "3\n",
      "armstrong\n"
     ]
    }
   ],
   "source": [
    "s=0\n",
    "a=int(input('enter a number: '))\n",
    "x=a\n",
    "z=0\n",
    "while a>0:\n",
    "    a=a//10\n",
    "    z+=1\n",
    "print(z)\n",
    "a=x\n",
    "while a>0:\n",
    "    n=a%i\n",
    "    a=(a-n)//10\n",
    "    s=(n**z)+s\n",
    "b='armstrong' if x==s else 'not armstrong'\n",
    "print(b)"
   ]
  },
  {
   "cell_type": "code",
   "execution_count": null,
   "id": "36405dd2",
   "metadata": {},
   "outputs": [],
   "source": []
  },
  {
   "cell_type": "code",
   "execution_count": null,
   "id": "39ccc00a",
   "metadata": {},
   "outputs": [],
   "source": []
  }
 ],
 "metadata": {
  "kernelspec": {
   "display_name": "Python 3 (ipykernel)",
   "language": "python",
   "name": "python3"
  },
  "language_info": {
   "codemirror_mode": {
    "name": "ipython",
    "version": 3
   },
   "file_extension": ".py",
   "mimetype": "text/x-python",
   "name": "python",
   "nbconvert_exporter": "python",
   "pygments_lexer": "ipython3",
   "version": "3.10.9"
  }
 },
 "nbformat": 4,
 "nbformat_minor": 5
}
