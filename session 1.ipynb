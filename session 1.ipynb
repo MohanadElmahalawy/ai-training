{
 "cells": [
  {
   "cell_type": "code",
   "execution_count": null,
   "id": "05dff387",
   "metadata": {},
   "outputs": [],
   "source": [
    "x=int(input(\"enter first num\"))\n",
    "y=int(input(\"enter second num\"))\n",
    "z=x+y\n",
    "print(\"the sum =\",z) "
   ]
  },
  {
   "cell_type": "code",
   "execution_count": 4,
   "id": "60e3ad74",
   "metadata": {},
   "outputs": [
    {
     "name": "stdout",
     "output_type": "stream",
     "text": [
      "enter a number: 2\n",
      "False\n"
     ]
    }
   ],
   "source": [
    "x=int(input(\"enter a number: \"))\n",
    "if x>10:\n",
    "    print(True)\n",
    "else:\n",
    "    print(False)"
   ]
  },
  {
   "cell_type": "code",
   "execution_count": 7,
   "id": "d7261558",
   "metadata": {},
   "outputs": [
    {
     "name": "stdout",
     "output_type": "stream",
     "text": [
      "enter a number: 5\n",
      "odd\n"
     ]
    }
   ],
   "source": [
    "x=int(input(\"enter a number: \"))\n",
    "if x%2==0:\n",
    "    print(\"even\")\n",
    "else:\n",
    "    print(\"odd\")\n"
   ]
  },
  {
   "cell_type": "code",
   "execution_count": 8,
   "id": "6f37b0e5",
   "metadata": {},
   "outputs": [
    {
     "name": "stdout",
     "output_type": "stream",
     "text": [
      "enter a number: 3\n",
      "three\n"
     ]
    }
   ],
   "source": [
    "x=int(input(\"enter a number: \"))\n",
    "dic={1:\"one\",2:\"two\",3:\"three\",4:\"four\",5:\"five\"}\n",
    "print(dic[x])"
   ]
  },
  {
   "cell_type": "code",
   "execution_count": 12,
   "id": "2d25aa79",
   "metadata": {},
   "outputs": [
    {
     "name": "stdout",
     "output_type": "stream",
     "text": [
      "enter a characterf\n",
      "false\n"
     ]
    }
   ],
   "source": [
    "x=input(\"enter a character\")\n",
    "if x=='a' or x=='e'or x=='i' or x=='o' or x=='u':\n",
    "    print(\"true\")\n",
    "else:\n",
    "    print(\"false\")\n"
   ]
  },
  {
   "cell_type": "code",
   "execution_count": 14,
   "id": "259a23f0",
   "metadata": {},
   "outputs": [
    {
     "name": "stdout",
     "output_type": "stream",
     "text": [
      "enter a number: -5\n",
      "5\n"
     ]
    }
   ],
   "source": [
    "x=int(input(\"enter a number: \"))\n",
    "a= x if x>=0 else x*-1\n",
    "print(a)"
   ]
  }
 ],
 "metadata": {
  "kernelspec": {
   "display_name": "Python 3 (ipykernel)",
   "language": "python",
   "name": "python3"
  },
  "language_info": {
   "codemirror_mode": {
    "name": "ipython",
    "version": 3
   },
   "file_extension": ".py",
   "mimetype": "text/x-python",
   "name": "python",
   "nbconvert_exporter": "python",
   "pygments_lexer": "ipython3",
   "version": "3.10.9"
  }
 },
 "nbformat": 4,
 "nbformat_minor": 5
}
